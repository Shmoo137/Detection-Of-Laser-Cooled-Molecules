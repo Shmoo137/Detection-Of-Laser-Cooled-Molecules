{
 "cells": [
  {
   "cell_type": "markdown",
   "metadata": {},
   "source": [
    "## A simple Jupyter notebook to compute various characteristics of a laser cooling scheme\n",
    "A user needs to input the following information about a scheme.\n",
    "\n",
    "For a single-$S_1$ scheme:\n",
    "- lifetime of $S_1$ state (in seconds, s)\n",
    "- branching ratios from $S_1$ to all $S_2$s (unitless)\n",
    "- energy differences between $S_1$ and every $S_2$s / laser frequencies addressing transitions between $S_1$ and every $S_2$s (in nanometers, nm)\n",
    "\n",
    "For a double-$S_1$ scheme:\n",
    "- lifetimes of two $S_1$ states (in seconds, s)\n",
    "- branching ratios from the first $S_1$ to all $S_2$s (unitless)\n",
    "- branching ratios from the second $S_1$ to all $S_2$s (unitless)\n",
    "- energy differences between the first $S_1$ and every $S_2$s / laser frequencies addressing transitions between $S_1$ and every $S_2$s (in nanometers, nm)\n",
    "- energy differences between the second $S_1$ and every $S_2$s / laser frequencies addressing transitions between $S_1$ and every $S_2$s (in nanometers, nm)\n",
    "\n",
    "For both types of schemes:\n",
    "- molecular mass (in unified atomic mass units, u)\n",
    "- energy of $S_0$ state (in reciprocal centimeters/wavenumbers, cm$^{-1})"
   ]
  },
  {
   "cell_type": "markdown",
   "metadata": {},
   "source": [
    "### Needed functions (all described in a paper)"
   ]
  },
  {
   "cell_type": "code",
   "execution_count": null,
   "metadata": {},
   "outputs": [],
   "source": [
    "import numpy as np"
   ]
  },
  {
   "cell_type": "code",
   "execution_count": null,
   "metadata": {},
   "outputs": [],
   "source": [
    "# Scattering rate from Eq. (6)\n",
    "def inverse_R_single_S1(lambdas, BRs, lifetime):\n",
    "  sum_inv_lambdas_3 = np.sum(1 / lambdas**3)\n",
    "  return lifetime * (len(lambdas) + 1) + 0.04160402474381969 * sum_inv_lambdas_3\n",
    "\n",
    "## For Ne = 1 collapses to the single S1 formula\n",
    "def inverse_R_double_S1(lambdas, BRs, lifetime, lambdas_prim, BRs_prim, lifetime_prim):\n",
    "  avg_lifetime = (lifetime + lifetime_prim) / 2\n",
    "  sum_BRs_over_lambdas_3_BRs = np.sum( (BRs + BRs_prim) / (BRs * lambdas**3 + BRs_prim * lambdas_prim**3) )\n",
    "  Ne = 2\n",
    "  Ng = len(lambdas)\n",
    "  return avg_lifetime * (Ne + Ng) / Ne + 0.04160402474381969 / Ne * sum_BRs_over_lambdas_3_BRs\n",
    "\n",
    "## Function to invoke single- or double-S1 formulas depending on the input arguments\n",
    "def inverse_R(lambdas, BRs, lifetime, lambdas_prim = None, BRs_prim = None, lifetime_prim = None):\n",
    "  if lambdas_prim is None and BRs_prim is None and lifetime_prim is None:\n",
    "    return inverse_R_single_S1(lambdas, BRs, lifetime)\n",
    "  else:\n",
    "    return inverse_R_double_S1(lambdas, BRs, lifetime, lambdas_prim, BRs_prim, lifetime_prim)"
   ]
  },
  {
   "cell_type": "code",
   "execution_count": null,
   "metadata": {},
   "outputs": [],
   "source": [
    "# Initial temperature of molecular gas, estimated from the Boltzmann distribution, from Eq. (12)\n",
    "def initial_temp(energy_S0):\n",
    "  return max([4, energy_S0 * 0.62485285866738])\n",
    "\n",
    "# Closure of a cooling scheme from Eq. (3)\n",
    "def closure_single_S1(BRs):\n",
    "  return np.sum(BRs)\n",
    "\n",
    "## To get double-S1 closure, I'm averaging over two closures, for Ne = 1 also collapses to the single S1 formula\n",
    "def closure_double_S1(BRs, BRs_prim):\n",
    "  return (np.sum(BRs) + np.sum(BRs_prim)) / 2\n",
    "\n",
    "## Function to invoke single- or double-S1 formulas depending on the input arguments\n",
    "def closure(BRs, BRs_prim = None):\n",
    "  if BRs_prim is None:\n",
    "    return closure_single_S1(BRs)\n",
    "  else:\n",
    "    return closure_double_S1(BRs, BRs_prim)\n",
    "\n",
    "# Number of scatterings that retain 10% of the molecules in a bright state from Eq. (4)\n",
    "def n10(closure):\n",
    "  return np.log(0.1)/np.log(closure)"
   ]
  },
  {
   "cell_type": "code",
   "execution_count": null,
   "metadata": {},
   "outputs": [],
   "source": [
    "# Number of needed cooling scattering processes from Eq. (9)\n",
    "def ncool_single_S1(lambdas, BRs, energy_S0, mass, closure):\n",
    "  sum_of_BR_lambda_ratios = np.sum(BRs / lambdas)\n",
    "  return np.sqrt(initial_temp(energy_S0) * mass) * closure(BRs) * 0.39579544150466855 / sum_of_BR_lambda_ratios\n",
    "\n",
    "# Mean photon momentum is an average of mean photon momenta of two subschemes, weighted by the respective closures\n",
    "def ncool_double_S1(lambdas, BRs, lambdas_prim, BRs_prim, energy_S0, mass):\n",
    "  sum_of_BR_lambda_ratios_w_closures = np.sum(BRs / lambdas) / closure(BRs) + np.sum(BRs_prim / lambdas_prim) / closure(BRs_prim)\n",
    "  return 2 * np.sqrt(initial_temp(energy_S0) * mass) * 0.39579544150466855 / sum_of_BR_lambda_ratios_w_closures\n",
    "\n",
    "## Function to invoke single- or double-S1 formulas depending on the input arguments\n",
    "def ncool(lambdas, BRs, energy_S0, mass, lambdas_prim = None, BRs_prim = None, lifetime_prim = None):\n",
    "  if lambdas_prim is None and BRs_prim is None and lifetime_prim is None:\n",
    "    return ncool_single_S1(lambdas, BRs, energy_S0, mass, closure)\n",
    "  else:\n",
    "    return ncool_double_S1(lambdas, BRs, lambdas_prim, BRs_prim, energy_S0, mass)"
   ]
  },
  {
   "cell_type": "markdown",
   "metadata": {},
   "source": [
    "### For a single-$S_1$ scheme:"
   ]
  },
  {
   "cell_type": "code",
   "execution_count": null,
   "metadata": {},
   "outputs": [],
   "source": [
    "lambdas_A = np.array([1015.1130583331022, 1246.300338439263, 1606.508589363804, 2244.744820493086, 3682.7307769845465])\n",
    "\n",
    "BRs_A = np.array([0.8066776821737045, 0.005408116361920967, 0.14239486381879604, 0.043026420294922506, 0.002482273056726346]) \n",
    "\n",
    "lifetime_A = 0.000010619\n",
    "mass = 24\n",
    "energy_S0 = 10.874961"
   ]
  },
  {
   "cell_type": "code",
   "execution_count": null,
   "metadata": {},
   "outputs": [],
   "source": [
    "print(\"T_init = {:.1f} K \\n R^(-1) = {:.2f} um \\n n_cool = {:.0f}\\n ncool/n10 = {:.4f}\\n closure = {:.6f}\\n t_cool = {:.1f} ms\".format(initial_temp(energy_S0), \n",
    "                                                                                         inverse_R(lambdas_A, BRs_A, lifetime_A)*1e6, \n",
    "                                                                                         ncool(lambdas_A, BRs_A, lifetime_A, energy_S0, mass), \n",
    "                                                                                         ncool(lambdas_A, BRs_A, lifetime_A, energy_S0, mass)/n10(closure(BRs_A)), \n",
    "                                                                                         closure(BRs_A),\n",
    "                                                                                         ncool(lambdas_A, BRs_A, lifetime_A, energy_S0, mass) * inverse_R(lambdas_A, BRs_A, lifetime_A)*1e3))"
   ]
  },
  {
   "cell_type": "markdown",
   "metadata": {},
   "source": [
    "### For a double-$S_1$ scheme:"
   ]
  },
  {
   "cell_type": "markdown",
   "metadata": {},
   "source": [
    "lambdas_A = np.array([1015.1130583331022, 1246.300338439263, 1606.508589363804, 2244.744820493086, 3682.7307769845465])\n",
    "lambdas_B = np.array([1209.604136317404, 1552.8441814677426, 2154.8348542691415, 3483.2314250585123])\n",
    "\n",
    "BRs_A = np.array([0.8066776821737045, 0.005408116361920967, 0.14239486381879604, 0.043026420294922506, 0.002482273056726346]) \n",
    "BRs_B = np.array([0.6786156634845087, 0.28348982187561683, 0.03649184480340057, 0.001397026284591585])\n",
    "\n",
    "lifetime_A = 0.000010619\n",
    "lifetime_B = 0.000013134\n",
    "mass = 24\n",
    "energy_S0 = 10.874961"
   ]
  },
  {
   "cell_type": "code",
   "execution_count": null,
   "metadata": {},
   "outputs": [],
   "source": [
    "print(\"T_init = {:.1f} K \\n R^(-1) = {:.2f} um \\n n_cool = {:.0f}\\n ncool/n10 = {:.4f}\\n closure = {:.6f}\\n t_cool = {:.1f} ms\".format(initial_temp(energy_S0), \n",
    "                                                                                         inverse_R(lambdas_A, BRs_A, lifetime_A, lambdas_B, BRs_B, lifetime_B)*1e6, \n",
    "                                                                                         ncool(lambdas_A, BRs_A, lifetime_A, energy_S0, mass, lambdas_B, BRs_B, lifetime_B), \n",
    "                                                                                         ncool(lambdas_A, BRs_A, lifetime_A, energy_S0, mass, lambdas_B, BRs_B, lifetime_B)/n10(closure(BRs_A, BRs_B)), \n",
    "                                                                                         closure(BRs_A, BRs_B),\n",
    "                                                                                         ncool(lambdas_A, BRs_A, lifetime_A, energy_S0, mass, lambdas_B, BRs_B, lifetime_B) * inverse_R(lambdas_A, BRs_A, lifetime_A, lambdas_B, BRs_B, lifetime_B)*1e3))"
   ]
  }
 ],
 "metadata": {
  "kernelspec": {
   "display_name": "Python 3",
   "language": "python",
   "name": "python3"
  },
  "language_info": {
   "name": "python",
   "version": "3.11.9"
  }
 },
 "nbformat": 4,
 "nbformat_minor": 2
}
